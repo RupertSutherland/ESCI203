{
 "cells": [
  {
   "cell_type": "markdown",
   "metadata": {},
   "source": [
    "# ESCI-203 Lab 1, Q3: Gravity variation with latitude and altitude\n",
    "\n",
    "Define functions for the International Gravity Formula (latitude), and the Free Air correction (altitude)."
   ]
  },
  {
   "cell_type": "code",
   "execution_count": 1,
   "metadata": {},
   "outputs": [],
   "source": [
    "# import numerical python package and widgets to be interactive\n",
    "import numpy as np\n",
    "from ipywidgets import interact, widgets\n",
    "\n",
    "def gLatitude(latitude):\n",
    "    \"\"\"\n",
    "    Calculate the expected value of g as a function of latitude \n",
    "    using the International Gravity Formula 1967 (IAG 1971).\n",
    "    Gravitational acceleration at the equator is less than at \n",
    "    the poles because Earth spins (centripetal acceleration).\n",
    "    \n",
    "    Parameters\n",
    "    ----------\n",
    "    latitude : numeric or numeric-array\n",
    "        latitude in degrees (negative south of equator)\n",
    "        \n",
    "    Returns\n",
    "    -------\n",
    "    g : numeric or numeric-array\n",
    "        gravity acceleration (micro Newtons / kg)\n",
    "    \"\"\"\n",
    "    g0 = 9780318.\n",
    "    k1 = 5.3024e-3\n",
    "    k2 = 5.9e-6\n",
    "    a = np.radians(latitude)\n",
    "    return g0*(1 + k1*(np.sin(a))**2 - k2*(np.sin(2*a))**2)\n",
    "\n",
    "def freeAirCorrection(altitude):\n",
    "    \"\"\"\n",
    "    Calculate the Free Air correction for altitude, \n",
    "    which is positive if above sea level.\n",
    "    Gravity becomes less as separation from Earth increases.\n",
    "    Subtract the effect to predict a value at sea level.\n",
    "    \n",
    "    Parameters\n",
    "    ----------\n",
    "    altitude : numeric or numeric-array\n",
    "        elevation in m, relative to geoid (sea level)\n",
    "        \n",
    "    Returns\n",
    "    -------\n",
    "    dg : numeric or numeric-array\n",
    "        Free Air correction (micro Newtons / kg)\n",
    "    \"\"\"\n",
    "    return 3.086 * altitude\n",
    "\n",
    "def g(latitude,altitude):\n",
    "    \"\"\"\n",
    "    Gravity prediction ignoring topography.\n",
    "    \n",
    "    Parameters\n",
    "    ----------\n",
    "    latitude : numeric \n",
    "        latitude in degrees (negative south of equator)\n",
    "    altitude : numeric \n",
    "        elevation in m, relative to geoid (sea level)\n",
    "        \n",
    "    Returns\n",
    "    -------\n",
    "    g : numeric \n",
    "        gravity acceleration (micro Newtons / kg)\n",
    "    \"\"\"\n",
    "    return gLatitude(latitude) - freeAirCorrection(altitude)\n"
   ]
  },
  {
   "cell_type": "markdown",
   "metadata": {},
   "source": [
    "## Experiment with different latitude and altitude\n",
    "Experiment with the sliders or enter figures directly.   \n",
    "Values are in micro Newtons / kg ($\\mu N kg^{-1}$).   \n",
    "The **difference** between the observed value of **absolute gravity** and this model (calculated) value is called a **Free Air gravity anomaly**."
   ]
  },
  {
   "cell_type": "code",
   "execution_count": 3,
   "metadata": {},
   "outputs": [
    {
     "data": {
      "application/vnd.jupyter.widget-view+json": {
       "model_id": "f39c467d81684d0fb611c8107dcf97bb",
       "version_major": 2,
       "version_minor": 0
      },
      "text/plain": [
       "interactive(children=(FloatSlider(value=0.0, description='latitude', max=90.0, min=-90.0), FloatSlider(value=0…"
      ]
     },
     "metadata": {},
     "output_type": "display_data"
    },
    {
     "data": {
      "text/plain": [
       "<function __main__.g(latitude, altitude)>"
      ]
     },
     "execution_count": 3,
     "metadata": {},
     "output_type": "execute_result"
    }
   ],
   "source": [
    "interact(g,latitude=widgets.FloatSlider(min=-90,max=90,value=0),altitude=widgets.FloatSlider(min=0,max=10000,value=0))"
   ]
  },
  {
   "cell_type": "code",
   "execution_count": null,
   "metadata": {},
   "outputs": [],
   "source": []
  }
 ],
 "metadata": {
  "kernelspec": {
   "display_name": "Python 3",
   "language": "python",
   "name": "python3"
  },
  "language_info": {
   "codemirror_mode": {
    "name": "ipython",
    "version": 3
   },
   "file_extension": ".py",
   "mimetype": "text/x-python",
   "name": "python",
   "nbconvert_exporter": "python",
   "pygments_lexer": "ipython3",
   "version": "3.7.4"
  }
 },
 "nbformat": 4,
 "nbformat_minor": 4
}
