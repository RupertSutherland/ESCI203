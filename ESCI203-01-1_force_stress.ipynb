{
 "cells": [
  {
   "cell_type": "markdown",
   "metadata": {},
   "source": [
    "# ESCI-203 Lab 1, Q1: Force, stress, strength\n",
    "\n",
    "A quick recap of physics, and example of a python jupyter notebook. A jupyter notebook is a mixture of formatted text and interactive code cells that you can run separately (and maybe modify to experiment with).\n",
    "\n",
    "\n",
    "The gravitational acceleration of a 100 kg (mass) rugby player falling to the ground is g = 9.81 m s$^{-2}$. \n",
    "\n",
    "#### (i) What is the magnitude of gravitational force (weight) pulling him down?\n"
   ]
  },
  {
   "cell_type": "code",
   "execution_count": 1,
   "metadata": {},
   "outputs": [
    {
     "name": "stdout",
     "output_type": "stream",
     "text": [
      "Force = 981.0 N\n"
     ]
    }
   ],
   "source": [
    "mass = 100.0\n",
    "g = 9.81\n",
    "\n",
    "force = mass * g\n",
    "\n",
    "print('Force =',force,'N')"
   ]
  },
  {
   "cell_type": "markdown",
   "metadata": {},
   "source": [
    "#### (ii) What is the vertical stress beneath his studs when standing on concrete? \n",
    "\n",
    "Stress is force per unit area (unit: 1 N m$^{-2}$  = 1 Pa = 10$^{-6}$ MPa) . \n",
    "\n",
    "The area of the bottom of the player’s studs is 10 cm$^2$ (1 cm = 0.01 m; 1 cm$^2$ = 0.0001 m$^2$).\n",
    "\n",
    "(typical concrete strength is 20 MPa i.e. it is damaged by higher differential stress than that)\n",
    "\n"
   ]
  },
  {
   "cell_type": "code",
   "execution_count": 2,
   "metadata": {},
   "outputs": [
    {
     "name": "stdout",
     "output_type": "stream",
     "text": [
      "Stress if studs don't sink in = 981000.0 Pa = 0.981 MPa\n"
     ]
    }
   ],
   "source": [
    "# Convert length, area to SI units of m, sq m\n",
    "cm = 0.01\n",
    "sqcm = cm*cm\n",
    "\n",
    "areaOfStuds = 10 * sqcm\n",
    "\n",
    "stressUnderStuds = force / areaOfStuds\n",
    "\n",
    "print (\"Stress if studs don't sink in =\",stressUnderStuds,'Pa =',stressUnderStuds*1e-6,'MPa')"
   ]
  },
  {
   "cell_type": "markdown",
   "metadata": {},
   "source": [
    "#### (iii) What is the pressure under his feet when standing on a soft rugby pitch?\n",
    "\n",
    "The surface area under the soles of his boots is 500 cm$^2$.   \n"
   ]
  },
  {
   "cell_type": "code",
   "execution_count": 3,
   "metadata": {},
   "outputs": [
    {
     "name": "stdout",
     "output_type": "stream",
     "text": [
      "Stress = 19620.0 Pa = 0.01962 MPa\n"
     ]
    }
   ],
   "source": [
    "areaOfBoots = 500 * sqcm\n",
    "\n",
    "stressUnderBoots = force / areaOfBoots\n",
    "\n",
    "print ('Stress =',stressUnderBoots,'Pa =',stressUnderBoots*1e-6,'MPa')\n"
   ]
  },
  {
   "cell_type": "markdown",
   "metadata": {},
   "source": [
    "#### (iv) Why does the player only sink in to the depth of his studs, and not deeper?\n",
    "\n"
   ]
  },
  {
   "cell_type": "markdown",
   "metadata": {},
   "source": [
    "The yield/failure strength of the concrete is high enough to withstand the high stress on studs alone, but the rugby pitch is not, i.e. the soft pitch has a strength of less than 1 MPa. The yield strength of the pitch can withstand the lower stress of 20 kPa, so it is stronger than that.\n",
    "\n",
    "The extra mass of the player is supported and a small positive Free Air gravity anomaly created! \n"
   ]
  },
  {
   "cell_type": "code",
   "execution_count": null,
   "metadata": {},
   "outputs": [],
   "source": []
  }
 ],
 "metadata": {
  "kernelspec": {
   "display_name": "Python 3",
   "language": "python",
   "name": "python3"
  },
  "language_info": {
   "codemirror_mode": {
    "name": "ipython",
    "version": 3
   },
   "file_extension": ".py",
   "mimetype": "text/x-python",
   "name": "python",
   "nbconvert_exporter": "python",
   "pygments_lexer": "ipython3",
   "version": "3.7.4"
  }
 },
 "nbformat": 4,
 "nbformat_minor": 4
}
