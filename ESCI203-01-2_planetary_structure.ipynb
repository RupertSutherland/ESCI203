{
 "cells": [
  {
   "cell_type": "markdown",
   "metadata": {},
   "source": [
    "# ESCI-203 Lab 1, Q2: gravity to investigate deep planetary structure\n",
    "\n"
   ]
  },
  {
   "cell_type": "markdown",
   "metadata": {},
   "source": [
    "Start with some basics, including a function that calculates the volume of a sphere:\n",
    "\\begin{align}\n",
    "V & = \\frac{4}{3} \\pi R^3\n",
    "\\end{align}"
   ]
  },
  {
   "cell_type": "code",
   "execution_count": 1,
   "metadata": {},
   "outputs": [],
   "source": [
    "# unit conversions to SI\n",
    "km = 1000.\n",
    "cu_km = km*km*km\n",
    "\n",
    "G = 6.67e-11  # Universal Gravitational Constant (SI)\n",
    "\n",
    "# other constants\n",
    "gEarth = 9.81\n",
    "radiusEarth = 6378. * km\n",
    "\n",
    "def volumeSphere(radius):\n",
    "    \"\"\"\n",
    "    Calculate volume of a sphere from its radius.\n",
    "    \n",
    "    Parameters\n",
    "    ----------\n",
    "    radius : numeric or numeric-array\n",
    "        Radius of the sphere\n",
    "        \n",
    "    Returns\n",
    "    -------\n",
    "    volume : numeric or numeric-array\n",
    "        Volume(s) of sphere(s)\n",
    "    \"\"\"\n",
    "    return (4/3) * 3.14159265358979 * radius**3\n"
   ]
  },
  {
   "cell_type": "markdown",
   "metadata": {},
   "source": [
    "## (2A) The whole Earth\n",
    "\n",
    "#### The radius of Earth is 6,378 km, but what is its mass and average density (kg m$^{-3}$)?\n",
    "\n",
    "Use Newton's Law of Gravity: \n",
    "\\begin{align}\n",
    "F=G\\frac{m_1m_2}{r^2}\\end{align}\n",
    "and Newton's Second Law of Motion: $F=ma=mg$"
   ]
  },
  {
   "cell_type": "markdown",
   "metadata": {},
   "source": [
    "*Answer:* Use algebra...\n"
   ]
  },
  {
   "cell_type": "code",
   "execution_count": 2,
   "metadata": {},
   "outputs": [],
   "source": [
    "# Calculate the mass of Earth (Me), volume of Earth (Ve), and hence average density of Earth (Me/Ve)\n",
    "\n",
    "\n",
    "# print answers, with units\n"
   ]
  },
  {
   "cell_type": "markdown",
   "metadata": {},
   "source": [
    "## (2B) Earth's core\n",
    "\n",
    "Geochemical arguments suggest that the density ($\\rho_m$) of the mantle increases from about 3300 kg m$^{-3}$ at 100 km depth to about 5700 kg m$^{-3}$ at 2800 km depth. Assume an average mantle density of 4100 kg m$^{-3}$. Seismology indicates that the radius of the core is 3460 km. \n",
    "\n",
    "#### (i)\tCalculate the volume of the core\n",
    " "
   ]
  },
  {
   "cell_type": "code",
   "execution_count": 3,
   "metadata": {},
   "outputs": [],
   "source": [
    "# Volume of core (Vc) depends on its radius\n",
    "\n",
    "radiusEarthCore = 3460 * km\n",
    "\n",
    "# Calculate volume (use function already defined)\n",
    "\n",
    "\n",
    "# print answer\n"
   ]
  },
  {
   "cell_type": "markdown",
   "metadata": {},
   "source": [
    "#### (ii) Calculate the volume of the mantle (assume $V_e=V_m+V_c$)"
   ]
  },
  {
   "cell_type": "code",
   "execution_count": 4,
   "metadata": {},
   "outputs": [],
   "source": [
    "# Volume of mantle, Vm = Ve - Vc\n",
    "\n"
   ]
  },
  {
   "cell_type": "markdown",
   "metadata": {},
   "source": [
    "#### (iii) Calculate the density of the core (assume $M_{earth}=\\rho_{mantle}V_{mantle}+\\rho_{core}V_{core}$)"
   ]
  },
  {
   "cell_type": "code",
   "execution_count": 5,
   "metadata": {},
   "outputs": [],
   "source": [
    "densityMantle = 4100.\n",
    "\n",
    "# calculate and print answer\n",
    "\n"
   ]
  },
  {
   "cell_type": "markdown",
   "metadata": {},
   "source": [
    "#### What could have such a density?"
   ]
  },
  {
   "cell_type": "markdown",
   "metadata": {},
   "source": [
    "*Answer:*  "
   ]
  },
  {
   "cell_type": "markdown",
   "metadata": {},
   "source": [
    "## (2C) Mars\n",
    "#### What is the average density of Mars?\n",
    "\n",
    "The radius of Mars is 3,394 km (53% of Earth) and gravitational acceleration on its surface is 39% of Earth.  \n",
    "hint: write an equation for the ratio $g_{Mars}/g_{Earth}$ using \n",
    "\\begin{align}\n",
    "g & = G \\frac{M}{R^2} \\\\\n",
    "M & = V \\rho \\\\\n",
    "V & = \\frac{4}{3} \\pi R^3\n",
    "\\end{align}"
   ]
  },
  {
   "cell_type": "markdown",
   "metadata": {},
   "source": [
    "Algebra: \n",
    "\n"
   ]
  },
  {
   "cell_type": "code",
   "execution_count": 6,
   "metadata": {},
   "outputs": [],
   "source": [
    "radiusMars = 3394 * km\n",
    "gMars = 0.39 * gEarth\n",
    "\n",
    "# calculate and print answer\n"
   ]
  },
  {
   "cell_type": "markdown",
   "metadata": {},
   "source": [
    "#### What does this imply about composition of the planet? \n",
    "Does this explain the lack of magnetic field and hence atmosphere (solar wind 'blows' it away, if no magnetic field)?"
   ]
  },
  {
   "cell_type": "markdown",
   "metadata": {},
   "source": [
    "*Answer:*  "
   ]
  },
  {
   "cell_type": "code",
   "execution_count": null,
   "metadata": {},
   "outputs": [],
   "source": []
  }
 ],
 "metadata": {
  "kernelspec": {
   "display_name": "Python 3",
   "language": "python",
   "name": "python3"
  },
  "language_info": {
   "codemirror_mode": {
    "name": "ipython",
    "version": 3
   },
   "file_extension": ".py",
   "mimetype": "text/x-python",
   "name": "python",
   "nbconvert_exporter": "python",
   "pygments_lexer": "ipython3",
   "version": "3.7.4"
  }
 },
 "nbformat": 4,
 "nbformat_minor": 4
}
