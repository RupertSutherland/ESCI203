{
 "cells": [
  {
   "cell_type": "markdown",
   "metadata": {},
   "source": [
    "# ESCI-203 Lab 1, Q2: gravity to investigate deep planetary structure\n",
    "\n"
   ]
  },
  {
   "cell_type": "markdown",
   "metadata": {},
   "source": [
    "Start with some basics, including a function that calculates the volume of a sphere:\n",
    "\\begin{align}\n",
    "V & = \\frac{4}{3} \\pi R^3\n",
    "\\end{align}"
   ]
  },
  {
   "cell_type": "code",
   "execution_count": 1,
   "metadata": {},
   "outputs": [],
   "source": [
    "# unit conversions to SI\n",
    "km = 1000.\n",
    "cu_km = km*km*km\n",
    "\n",
    "G = 6.67e-11  # Universal Gravitational Constant (SI)\n",
    "\n",
    "# other constants\n",
    "gEarth = 9.81\n",
    "radiusEarth = 6378. * km\n",
    "\n",
    "def volumeSphere(radius):\n",
    "    \"\"\"\n",
    "    Calculate volume of a sphere from its radius.\n",
    "    \n",
    "    Parameters\n",
    "    ----------\n",
    "    radius : numeric or numeric-array\n",
    "        Radius of the sphere\n",
    "        \n",
    "    Returns\n",
    "    -------\n",
    "    volume : numeric or numeric-array\n",
    "        Volume(s) of sphere(s)\n",
    "    \"\"\"\n",
    "    return (4/3) * 3.14159265358979 * radius**3\n"
   ]
  },
  {
   "cell_type": "markdown",
   "metadata": {},
   "source": [
    "## (2A) The whole Earth\n",
    "\n",
    "#### The radius of Earth is 6,378 km, but what is its mass and average density (kg m$^{-3}$)?\n",
    "\n",
    "Use Newton's Law of Gravity: \n",
    "\\begin{align}\n",
    "F=G\\frac{m_1m_2}{r^2}\\end{align}\n",
    "and Newton's Second Law of Motion: $F=ma=mg$"
   ]
  },
  {
   "cell_type": "markdown",
   "metadata": {},
   "source": [
    "*Answer:* Use algebra...\n",
    "\n",
    "\\begin{align}\n",
    "g & = G\\frac{M_e}{R_e^2} \\\\\n",
    "M_e & = g\\frac{R_e^2}{G}\n",
    "\\end{align}"
   ]
  },
  {
   "cell_type": "code",
   "execution_count": 2,
   "metadata": {},
   "outputs": [
    {
     "name": "stdout",
     "output_type": "stream",
     "text": [
      "Mass of Earth = 5.982906327436282e+24 kg\n",
      "Volume of Earth = 1.086781292542888e+21 cu m = 1086781292542.888 cu km\n",
      "Density of Earth = 5505.161313034082 kg / cu m\n"
     ]
    }
   ],
   "source": [
    "# Calculate the mass of Earth (Me), volume of Earth (Ve), and hence average density of Earth (Me/Ve)\n",
    "\n",
    "massEarth = gEarth * radiusEarth**2 / G\n",
    "\n",
    "volumeEarth = volumeSphere(radiusEarth)\n",
    "\n",
    "densityEarth = massEarth/volumeEarth\n",
    "\n",
    "print('Mass of Earth =',massEarth,'kg')\n",
    "\n",
    "print('Volume of Earth =',volumeEarth,'cu m =',volumeEarth/cu_km,'cu km')\n",
    "\n",
    "print('Density of Earth =',densityEarth,'kg / cu m')"
   ]
  },
  {
   "cell_type": "markdown",
   "metadata": {},
   "source": [
    "## (2B) Earth's core\n",
    "\n",
    "Geochemical arguments suggest that the density ($\\rho_m$) of the mantle increases from about 3300 kg m$^{-3}$ at 100 km depth to about 5700 kg m$^{-3}$ at 2800 km depth. Assume an average mantle density of 4100 kg m$^{-3}$. Seismology indicates that the radius of the core is 3460 km. \n",
    "\n",
    "#### (i)\tCalculate the volume of the core\n",
    " "
   ]
  },
  {
   "cell_type": "code",
   "execution_count": 3,
   "metadata": {},
   "outputs": [
    {
     "name": "stdout",
     "output_type": "stream",
     "text": [
      "Volume of core = 1.735069620220476e+20 cu m = 173506962022.0476 cu km\n"
     ]
    }
   ],
   "source": [
    "# Volume of core (Vc) depends on its radius\n",
    "\n",
    "radiusEarthCore = 3460 * km\n",
    "\n",
    "volumeCore = volumeSphere(radiusEarthCore)\n",
    "\n",
    "print('Volume of core =',volumeCore,'cu m =',volumeCore/cu_km,'cu km')"
   ]
  },
  {
   "cell_type": "markdown",
   "metadata": {},
   "source": [
    "#### (ii) Calculate the volume of the mantle (assume $V_e=V_m+V_c$)"
   ]
  },
  {
   "cell_type": "code",
   "execution_count": 4,
   "metadata": {},
   "outputs": [
    {
     "name": "stdout",
     "output_type": "stream",
     "text": [
      "Volume of mantle = 9.132743305208403e+20 cu m = 913274330520.8403 cu km\n"
     ]
    }
   ],
   "source": [
    "# Volume of mantle, Vm = Ve - Vc\n",
    "\n",
    "volumeMantle = volumeEarth - volumeCore\n",
    "\n",
    "print('Volume of mantle =',volumeMantle,'cu m =',volumeMantle/cu_km,'cu km')"
   ]
  },
  {
   "cell_type": "markdown",
   "metadata": {},
   "source": [
    "#### (iii) Calculate the density of the core (assume $M_{earth}=\\rho_{mantle}V_{mantle}+\\rho_{core}V_{core}$)"
   ]
  },
  {
   "cell_type": "code",
   "execution_count": 5,
   "metadata": {},
   "outputs": [
    {
     "name": "stdout",
     "output_type": "stream",
     "text": [
      "Density of core = 12901.39338625727 kg / cu m\n"
     ]
    }
   ],
   "source": [
    "densityMantle = 4100.\n",
    "massMantle = densityMantle*volumeMantle\n",
    "massCore = massEarth - massMantle\n",
    "densityCore = massCore / volumeCore\n",
    "\n",
    "print('Density of core =',densityCore,'kg / cu m')"
   ]
  },
  {
   "cell_type": "markdown",
   "metadata": {},
   "source": [
    "#### What could have such a density?"
   ]
  },
  {
   "cell_type": "markdown",
   "metadata": {},
   "source": [
    "*Answer:*  The core is much denser than the mantle, but consistent with a metal composition (Fe-based), which also explains the magnetic character of Earth. This suggested composition is also consistent with that of the broader Solar System, as inferred from meteorites."
   ]
  },
  {
   "cell_type": "markdown",
   "metadata": {},
   "source": [
    "## (2C) Mars\n",
    "#### What is the average density of Mars?\n",
    "\n",
    "The radius of Mars is 3,394 km (53% of Earth) and gravitational acceleration on its surface is 39% of Earth.  \n",
    "hint: write an equation for the ratio $g_{Mars}/g_{Earth}$ using \n",
    "\\begin{align}\n",
    "g & = G \\frac{M}{R^2} \\\\\n",
    "M & = V \\rho \\\\\n",
    "V & = \\frac{4}{3} \\pi R^3\n",
    "\\end{align}"
   ]
  },
  {
   "cell_type": "markdown",
   "metadata": {},
   "source": [
    "Algebra: \n",
    "\\begin{align}\n",
    "g & = \\frac{G}{R^2} \\frac{4}{3} \\pi R^3 \\rho = \\Bigl(\\frac{4}{3} G \\pi \\Bigr) R \\rho \\\\\n",
    "\\frac{g_e}{g_m} & = \\frac{R_e\\rho_e}{R_m\\rho_m} \\\\\n",
    "\\rho_m & = \\rho_e \\frac{R_e}{R_m} \\frac{g_m}{g_e}\n",
    "\\end{align}"
   ]
  },
  {
   "cell_type": "code",
   "execution_count": 6,
   "metadata": {},
   "outputs": [
    {
     "name": "stdout",
     "output_type": "stream",
     "text": [
      "Density of Mars = 4034.663627951454 kg / cu m\n"
     ]
    }
   ],
   "source": [
    "radiusMars = 3394 * km\n",
    "gMars = 0.39 * gEarth\n",
    "\n",
    "densityMars = densityEarth * (radiusEarth/radiusMars) * (gMars/gEarth)\n",
    "\n",
    "print('Density of Mars =',densityMars,'kg / cu m')"
   ]
  },
  {
   "cell_type": "markdown",
   "metadata": {},
   "source": [
    "#### What does this imply about composition of the planet? \n",
    "Does this explain the lack of magnetic field and hence atmosphere (solar wind 'blows' it away, if no magnetic field)?"
   ]
  },
  {
   "cell_type": "markdown",
   "metadata": {},
   "source": [
    "*Answer:*  Yes! The average density of Mars is similar to the average density of Earth's mantle i.e. no evidence for significant core. No significant magnetic field to shield the atmosphere from erosion by solar particles. Evidence exists that once there was water and atmosphere on Mars, but not any more."
   ]
  },
  {
   "cell_type": "code",
   "execution_count": null,
   "metadata": {},
   "outputs": [],
   "source": []
  }
 ],
 "metadata": {
  "kernelspec": {
   "display_name": "Python 3",
   "language": "python",
   "name": "python3"
  },
  "language_info": {
   "codemirror_mode": {
    "name": "ipython",
    "version": 3
   },
   "file_extension": ".py",
   "mimetype": "text/x-python",
   "name": "python",
   "nbconvert_exporter": "python",
   "pygments_lexer": "ipython3",
   "version": "3.7.4"
  }
 },
 "nbformat": 4,
 "nbformat_minor": 4
}
