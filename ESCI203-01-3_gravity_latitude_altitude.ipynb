{
 "cells": [
  {
   "cell_type": "markdown",
   "metadata": {},
   "source": [
    "# ESCI-203 Lab 1, Q3: Gravity variation with latitude and altitude\n",
    "\n",
    "Define functions for the International Gravity Formula (latitude), and the Free Air correction (altitude)."
   ]
  },
  {
   "cell_type": "code",
   "execution_count": 1,
   "metadata": {},
   "outputs": [],
   "source": [
    "# import numerical python package\n",
    "import numpy as np\n",
    "\n",
    "def gravity(latitude):\n",
    "    \"\"\"\n",
    "    Calculate the expected value of g as a function of latitude \n",
    "    using the International Gravity Formula 1967 (IAG 1971).\n",
    "    \n",
    "    Parameters\n",
    "    ----------\n",
    "    latitude : numeric or numeric-array\n",
    "        latitude in degrees (negative south of equator)\n",
    "        \n",
    "    Returns\n",
    "    -------\n",
    "    g : numeric or numeric-array\n",
    "        gravity acceleration (micro Newtons / kg)\n",
    "    \"\"\"\n",
    "    g0 = 9780318.\n",
    "    k1 = 5.3024e-3\n",
    "    k2 = 5.9e-6\n",
    "    a = np.radians(latitude)\n",
    "    return g0*(1 + k1*(np.sin(a))**2 - k2*(np.sin(2*a))**2)\n",
    "\n",
    "def freeAirCorrection(altitude):\n",
    "    \"\"\"\n",
    "    Calculate the Free Air correction for altitude, \n",
    "    which is positive if above sea level.\n",
    "    \n",
    "    Parameters\n",
    "    ----------\n",
    "    altitude : numeric or numeric-array\n",
    "        elevation in m, relative to geoid (sea level)\n",
    "        \n",
    "    Returns\n",
    "    -------\n",
    "    dg : numeric or numeric-array\n",
    "        Free Air correction (micro Newtons / kg)\n",
    "    \"\"\"\n",
    "    return 3.086 * altitude\n"
   ]
  },
  {
   "cell_type": "markdown",
   "metadata": {},
   "source": [
    "## (3A) Latitude\n",
    "#### Calculate gravity at different latitudes: (i) equator, (ii) Wellington = 41$^\\circ$S, (iii) North Pole.\n",
    "Report values in micro Newtons / kg ($\\mu N kg^{-1}$) *AND* SI units of m s$^{-2}$."
   ]
  },
  {
   "cell_type": "code",
   "execution_count": 2,
   "metadata": {},
   "outputs": [
    {
     "name": "stdout",
     "output_type": "stream",
     "text": [
      "(i) Equator = 9780318.0 micro Newtons / kg = 9.780318 m/(s*s)\n",
      "(i) Wellington = 9802582.292953175 micro Newtons / kg = 9.802582292953174 m/(s*s)\n",
      "(i) North Pole = 9832177.1581632 micro Newtons / kg = 9.8321771581632 m/(s*s)\n"
     ]
    }
   ],
   "source": [
    "# Use the gravity() function to obtain value in micro Newtons / kg\n",
    "gEquator = gravity(0)\n",
    "gWellington = gravity(-41)\n",
    "gPole = gravity(90)\n",
    "\n",
    "print('(i) Equator =',gEquator,'micro Newtons / kg =',gEquator*1e-6,'m/(s*s)')\n",
    "print('(i) Wellington =',gWellington,'micro Newtons / kg =',gWellington*1e-6,'m/(s*s)')\n",
    "print('(i) North Pole =',gPole,'micro Newtons / kg =',gPole*1e-6,'m/(s*s)')"
   ]
  },
  {
   "cell_type": "markdown",
   "metadata": {},
   "source": [
    "#### (iv) What is the difference in absolute gravity between the pole and equator in mGal units?"
   ]
  },
  {
   "cell_type": "code",
   "execution_count": 3,
   "metadata": {},
   "outputs": [
    {
     "name": "stdout",
     "output_type": "stream",
     "text": [
      "Absolute gravity is greater at the pole by 5185.915816319921 mGal\n"
     ]
    }
   ],
   "source": [
    "# subtract values and convert to mGal\n",
    "gDiff_mGal = (gPole - gEquator)*0.1\n",
    "\n",
    "print('Absolute gravity is greater at the pole by',gDiff_mGal,'mGal')"
   ]
  },
  {
   "cell_type": "markdown",
   "metadata": {},
   "source": [
    "#### (v) What is the difference in absolute gravity between the pole and equator as a percentage of the value at the pole?"
   ]
  },
  {
   "cell_type": "code",
   "execution_count": 4,
   "metadata": {},
   "outputs": [
    {
     "name": "stdout",
     "output_type": "stream",
     "text": [
      "Absolute gravity is less at the equator by 0.5274432847270552 %\n"
     ]
    }
   ],
   "source": [
    "gDiff_percent = 100 * (gPole - gEquator)/gPole\n",
    "\n",
    "print('Absolute gravity is less at the equator by',gDiff_percent,'%')"
   ]
  },
  {
   "cell_type": "markdown",
   "metadata": {},
   "source": [
    "Note: the difference is quite small compared to the total value, i.e. not obvious to a human;   \n",
    "but a large gravity anomaly is typically of order 50 mGal, so only 1% of this difference."
   ]
  },
  {
   "cell_type": "markdown",
   "metadata": {},
   "source": [
    "## (3B) Altitude\n",
    "#### How much less is the value of gravity at the top of the *Burj Khalifa* than the base?\n",
    "The *Burj Khalifa* is 830 m high. Give your answer in **mGal**."
   ]
  },
  {
   "cell_type": "code",
   "execution_count": 5,
   "metadata": {},
   "outputs": [
    {
     "name": "stdout",
     "output_type": "stream",
     "text": [
      "Free Air correction = 256.138 mGal\n"
     ]
    }
   ],
   "source": [
    "# Use the function freeAirCorrection(altitude)\n",
    "dg_uNkg = freeAirCorrection(830.)\n",
    "dg_mGal = dg_uNkg * 0.1\n",
    "\n",
    "print('Free Air correction =',dg_mGal,'mGal')"
   ]
  },
  {
   "cell_type": "markdown",
   "metadata": {},
   "source": [
    "Note how large this correction is, as compared to typical gravity anomalies on a map.   \n",
    "Therefore, it is important to make this correction precisely."
   ]
  },
  {
   "cell_type": "code",
   "execution_count": null,
   "metadata": {},
   "outputs": [],
   "source": []
  }
 ],
 "metadata": {
  "kernelspec": {
   "display_name": "Python 3",
   "language": "python",
   "name": "python3"
  },
  "language_info": {
   "codemirror_mode": {
    "name": "ipython",
    "version": 3
   },
   "file_extension": ".py",
   "mimetype": "text/x-python",
   "name": "python",
   "nbconvert_exporter": "python",
   "pygments_lexer": "ipython3",
   "version": "3.7.4"
  }
 },
 "nbformat": 4,
 "nbformat_minor": 4
}
