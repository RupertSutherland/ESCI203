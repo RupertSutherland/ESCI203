{
 "cells": [
  {
   "cell_type": "markdown",
   "metadata": {},
   "source": [
    "# ESCI-203 Lab 1, Q3: Gravity variation with latitude and altitude\n",
    "\n",
    "Define functions for the International Gravity Formula (latitude), and the Free Air correction (altitude)."
   ]
  },
  {
   "cell_type": "code",
   "execution_count": 1,
   "metadata": {},
   "outputs": [],
   "source": [
    "# import numerical python package\n",
    "import numpy as np\n",
    "\n",
    "def gravity(latitude):\n",
    "    \"\"\"\n",
    "    Calculate the expected value of g as a function of latitude \n",
    "    using the International Gravity Formula 1967 (IAG 1971).\n",
    "    \n",
    "    Parameters\n",
    "    ----------\n",
    "    latitude : numeric or numeric-array\n",
    "        latitude in degrees (negative south of equator)\n",
    "        \n",
    "    Returns\n",
    "    -------\n",
    "    g : numeric or numeric-array\n",
    "        gravity acceleration (micro Newtons / kg)\n",
    "    \"\"\"\n",
    "    g0 = 9780318.\n",
    "    k1 = 5.3024e-3\n",
    "    k2 = 5.9e-6\n",
    "    a = np.radians(latitude)\n",
    "    return g0*(1 + k1*(np.sin(a))**2 - k2*(np.sin(2*a))**2)\n",
    "\n",
    "def freeAirCorrection(altitude):\n",
    "    \"\"\"\n",
    "    Calculate the Free Air correction for altitude, \n",
    "    which is positive if above sea level.\n",
    "    \n",
    "    Parameters\n",
    "    ----------\n",
    "    altitude : numeric or numeric-array\n",
    "        elevation in m, relative to geoid (sea level)\n",
    "        \n",
    "    Returns\n",
    "    -------\n",
    "    dg : numeric or numeric-array\n",
    "        Free Air correction (micro Newtons / kg)\n",
    "    \"\"\"\n",
    "    return 3.086 * altitude\n"
   ]
  },
  {
   "cell_type": "markdown",
   "metadata": {},
   "source": [
    "## (3A) Latitude\n",
    "#### Calculate gravity at different latitudes: (i) equator, (ii) Wellington = 41$^\\circ$S, (iii) North Pole.\n",
    "Report values in micro Newtons / kg ($\\mu N kg^{-1}$) *AND* SI units of m s$^{-2}$."
   ]
  },
  {
   "cell_type": "code",
   "execution_count": 2,
   "metadata": {},
   "outputs": [],
   "source": [
    "# Use the gravity() function to obtain values in micro Newtons / kg\n",
    "\n",
    "# print answers (with units)\n"
   ]
  },
  {
   "cell_type": "markdown",
   "metadata": {},
   "source": [
    "#### (iv) What is the difference in absolute gravity between the pole and equator in mGal units?"
   ]
  },
  {
   "cell_type": "code",
   "execution_count": 3,
   "metadata": {},
   "outputs": [],
   "source": [
    "# subtract values and convert to mGal\n",
    "\n",
    "# print answer\n"
   ]
  },
  {
   "cell_type": "markdown",
   "metadata": {},
   "source": [
    "#### (v) What is the difference in absolute gravity between the pole and equator as a percentage of the value at the pole?"
   ]
  },
  {
   "cell_type": "code",
   "execution_count": 4,
   "metadata": {},
   "outputs": [],
   "source": [
    "# calculate\n",
    "\n",
    "# print answer\n"
   ]
  },
  {
   "cell_type": "markdown",
   "metadata": {},
   "source": [
    "*Comment:* "
   ]
  },
  {
   "cell_type": "markdown",
   "metadata": {},
   "source": [
    "## (3B) Altitude\n",
    "#### How much less is the value of gravity at the top of the *Burj Khalifa* than the base?\n",
    "The *Burj Khalifa* is 830 m high. Give your answer in **mGal**."
   ]
  },
  {
   "cell_type": "code",
   "execution_count": 5,
   "metadata": {},
   "outputs": [],
   "source": [
    "# Use the function freeAirCorrection(altitude)\n",
    "\n",
    "# print answer\n"
   ]
  },
  {
   "cell_type": "markdown",
   "metadata": {},
   "source": [
    "*Comment:*   \n"
   ]
  },
  {
   "cell_type": "code",
   "execution_count": null,
   "metadata": {},
   "outputs": [],
   "source": []
  }
 ],
 "metadata": {
  "kernelspec": {
   "display_name": "Python 3",
   "language": "python",
   "name": "python3"
  },
  "language_info": {
   "codemirror_mode": {
    "name": "ipython",
    "version": 3
   },
   "file_extension": ".py",
   "mimetype": "text/x-python",
   "name": "python",
   "nbconvert_exporter": "python",
   "pygments_lexer": "ipython3",
   "version": "3.7.4"
  }
 },
 "nbformat": 4,
 "nbformat_minor": 4
}
